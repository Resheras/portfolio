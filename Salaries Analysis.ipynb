{
 "metadata": {
  "kernelspec": {
   "display_name": "Streamlit Notebook",
   "name": "streamlit"
  },
  "lastEditStatus": {
   "notebookId": "l5l235dp7iplblxomxj6",
   "authorId": "689440261664",
   "authorName": "ANASTEF",
   "authorEmail": "resheras@gmail.com",
   "sessionId": "7959650a-b246-4e20-9ef0-60520995ad3f",
   "lastEditTime": 1738150524565
  }
 },
 "nbformat_minor": 5,
 "nbformat": 4,
 "cells": [
  {
   "cell_type": "code",
   "execution_count": null,
   "id": "75d25856-380e-4e01-831c-47189920d1fa",
   "metadata": {
    "codeCollapsed": false,
    "language": "python",
    "name": "Your_typical_analyst_notebook",
    "collapsed": false,
    "resultHeight": 0
   },
   "outputs": [],
   "source": [
    "# Import Python packages used in this notebook\n",
    "import streamlit as st\n",
    "import altair as alt\n",
    "\n",
    "# Pre-installed libraries that comes with the notebook\n",
    "import pandas as pd\n",
    "import numpy as np\n",
    "\n",
    "# Package that we just added\n",
    "import matplotlib.pyplot as plt"
   ]
  },
  {
   "cell_type": "markdown",
   "id": "267782b8-f7b2-4c4e-86b8-106371c5a1dd",
   "metadata": {
    "name": "Data_source",
    "collapsed": false
   },
   "source": "If you are interested in the data I used, you can find it in Kaggle: \n* https://www.kaggle.com/datasets/nilimajauhari/glassdoor-analyze-gender-pay-gap"
  },
  {
   "cell_type": "code",
   "id": "5eb7375e-c857-4a96-ab44-23671fa944ec",
   "metadata": {
    "language": "sql",
    "name": "Setup",
    "collapsed": false
   },
   "outputs": [],
   "source": "/*CREATE stage RAW_DATA;\n--add file to stage from data tab https://www.kaggle.com/datasets/nilimajauhari/glassdoor-analyze-gender-pay-gap\nLIST RAW_DATA;\nCREATE TABLE SALARY_DATA (\nJobTitle VARCHAR(255),\nGender VARCHAR(20),\nAge NUMBER,\nPerfEval NUMBER,\nEducation VARCHAR(255),\nDept VARCHAR(255),\nSeniority NUMBER,\nBasePay NUMBER,\nBonus NUMBER\n);\nCOPY INTO SALARY_DATA\nFROM @BUILD_RAW_DATA\nFILE_FORMAT = (TYPE = CSV SKIP_HEADER = 1);*/",
   "execution_count": null
  },
  {
   "cell_type": "code",
   "execution_count": null,
   "id": "726b8b95-674b-4191-a29d-2c850f27fd68",
   "metadata": {
    "codeCollapsed": false,
    "collapsed": false,
    "language": "sql",
    "name": "Select_star",
    "resultHeight": 439
   },
   "outputs": [],
   "source": "SELECT * \nFROM SALARY_DATA"
  },
  {
   "cell_type": "code",
   "execution_count": null,
   "id": "f2338253-c62a-4da1-b52b-569f23282689",
   "metadata": {
    "codeCollapsed": false,
    "collapsed": false,
    "language": "python",
    "name": "df_create",
    "resultHeight": 0
   },
   "outputs": [],
   "source": "df = Select_star.to_pandas()\ndf[\"TOTAL_SALARY\"]=df[\"BASEPAY\"]+df[\"BONUS\"]"
  },
  {
   "cell_type": "code",
   "id": "fada0586-1069-45ab-a108-25b20d53ea81",
   "metadata": {
    "language": "python",
    "name": "df_describe",
    "collapsed": false,
    "resultHeight": 439
   },
   "outputs": [],
   "source": "df.describe()",
   "execution_count": null
  },
  {
   "cell_type": "code",
   "execution_count": null,
   "id": "e0b78b8f-3de6-4863-9eec-d07c0e848d67",
   "metadata": {
    "codeCollapsed": false,
    "collapsed": false,
    "language": "python",
    "name": "Hist",
    "resultHeight": 646
   },
   "outputs": [],
   "source": "fig, ax = plt.subplots(figsize = (6,3))\nplt.tick_params(left = False, right = False , labelleft = False) \n\nmin_salary = min(df['TOTAL_SALARY'])\nmax_salary = max(df['TOTAL_SALARY'])\nbin_size = 10000\n\nprice = df[\"TOTAL_SALARY\"]\nprice.plot(kind = \"hist\", density = True, bins = range(min_salary, max_salary + bin_size, bin_size))\nprice.plot(kind=\"kde\", color='#c44e52')\n\n\n# Calculate percentiles\nmedian = price.median()\nax.axvline(median,0, color='#dd8452', ls='--')\nax.text(median,0.8, f'Median: {median:.2f}  ',\n        ha='right', va='center', color='#dd8452', transform=ax.get_xaxis_transform())\n\n# Make our chart pretty\nplt.style.use(\"bmh\")\nplt.title(\"Total Salary Distribution\")\nplt.xlabel(\"Total Salary (binned)\")\nleft, right = plt.xlim()   \nplt.xlim((0, right))  \n# Remove ticks and spines\nax.tick_params(left = False, bottom = False)\nfor ax, spine in ax.spines.items():\n    spine.set_visible(False)\n\nplt.show()"
  },
  {
   "cell_type": "code",
   "id": "54de4a07-be48-41ed-9f49-e7c0a3186101",
   "metadata": {
    "language": "python",
    "name": "Viz_compare_lib",
    "collapsed": false,
    "resultHeight": 799
   },
   "outputs": [],
   "source": "# Parameters\n#bin_size = 10000\n\n# Split the DataFrame by GENDER\nmale_salaries = df[df['GENDER'] == 'Male']['TOTAL_SALARY']\nfemale_salaries = df[df['GENDER'] == 'Female']['TOTAL_SALARY']\n\n# Determine the range of bins\n#min_salary = min(df['BASEPAY'])\n#max_salary = max(df['BASEPAY'])\nbins = range(min_salary, max_salary + bin_size, bin_size)\n\n# Plot histograms\nplt.figure(figsize=(6, 4))\n\nplt.hist(male_salaries, bins=bins, alpha=0.5, label='Male', color='green', edgecolor='black')\nplt.hist(female_salaries, bins=bins, alpha=0.5, label='Female', color='blue', edgecolor='black')\n\n# Add labels and legend\nplt.title('Salary Distribution by Gender')\nplt.xlabel('Salary')\nplt.ylabel('Frequency')\nplt.legend(bbox_to_anchor=(1, 1))\nplt.grid(axis='y', linestyle='--', alpha=0.7)\n\n# Show the plot\nplt.tight_layout()\nplt.show()",
   "execution_count": null
  },
  {
   "cell_type": "markdown",
   "id": "378bb2bf-0cd8-4ef6-88da-320129c8b372",
   "metadata": {
    "name": "Segment",
    "collapsed": false
   },
   "source": "I wonder - how does it look on different levels on seniority?"
  },
  {
   "cell_type": "code",
   "execution_count": null,
   "id": "3fb85963-53ea-46b6-be96-c164c397539a",
   "metadata": {
    "codeCollapsed": false,
    "language": "python",
    "name": "Seniotrity",
    "collapsed": false,
    "resultHeight": 0
   },
   "outputs": [],
   "source": "seniority = 3 "
  },
  {
   "cell_type": "code",
   "execution_count": null,
   "id": "8f1e59cc-3d51-41c9-bd8d-2f600e7c6b61",
   "metadata": {
    "codeCollapsed": false,
    "language": "sql",
    "name": "SQL_param",
    "collapsed": false,
    "resultHeight": 439
   },
   "outputs": [],
   "source": "SELECT * FROM SALARY_DATA where SENIORITY > {{seniority}}"
  },
  {
   "cell_type": "markdown",
   "id": "e1d99691-578d-4df2-a1c1-cde4ee7e1cd0",
   "metadata": {
    "collapsed": false,
    "name": "Streamlit",
    "resultHeight": 127
   },
   "source": [
    "## Creating an interactive app with Streamlit 🪄\n",
    "\n",
    "Putting this all together, let's build a Streamlit app to explore how different parameters impacts the shape of the data distribution histogram."
   ]
  },
  {
   "cell_type": "code",
   "execution_count": null,
   "id": "9fe67464-68f5-4bcf-a40d-684a58e3a44d",
   "metadata": {
    "codeCollapsed": false,
    "collapsed": false,
    "language": "python",
    "name": "Streamlit_app",
    "resultHeight": 1352
   },
   "outputs": [],
   "source": "import streamlit as st\nst.markdown(\"# Move the slider to adjust and watch the results update! 👇\")\ncol1, col2 = st.columns(2)\nwith col1:\n    seniority = st.slider('SENIORITY threshold',1,5,1) \n\n# Read table from Snowpark and plot the results\nfrom snowflake.snowpark.context import get_active_session\nsession = get_active_session()\ndf = session.sql(\n    f\"\"\"\n    SELECT * FROM SALARY_DATA where SENIORITY = {seniority};\n    \"\"\"\n    ).to_pandas()\n\n# Split the DataFrame by GENDER\nmale_salaries = df[df['GENDER'] == 'Male']['BASEPAY']\nfemale_salaries = df[df['GENDER'] == 'Female']['BASEPAY']\n\n# Determine the range of bins\nmin_salary = min(df['BASEPAY'])\nmax_salary = max(df['BASEPAY'])\nbins = range(min_salary, max_salary + bin_size, bin_size)\n\n# Plot histograms\nplt.figure(figsize=(6, 4))\n\nplt.hist(male_salaries, bins=bins, alpha=0.5, label='Male', color='green', edgecolor='black')\nplt.hist(female_salaries, bins=bins, alpha=0.5, label='Female', color='blue', edgecolor='black')\n\n# Add labels and legend\nplt.title('Salary Distribution by Gender')\nplt.xlabel('Salary')\nplt.ylabel('Frequency')\nplt.legend(bbox_to_anchor=(1, 1))\nplt.grid(axis='y', linestyle='--', alpha=0.7)\n\n# Show the plot\nplt.tight_layout()\nplt.show()\n\ndf.describe()"
  },
  {
   "cell_type": "code",
   "id": "7aa45dc8-87f5-4563-9387-9fb1cde46a32",
   "metadata": {
    "language": "sql",
    "name": "Dig_deeper",
    "resultHeight": 252,
    "collapsed": false
   },
   "outputs": [],
   "source": "with agg as (\nSELECT JOBTITLE, GENDER, AVG(BASEPAY + BONUS) as TOTAL_SALARY\nFROM SALARY_DATA\ngroup by 1,2\norder by 1\n),\npvt as (\nselect * from agg PIVOT (sum (TOTAL_SALARY) for GENDER IN (ANY ORDER BY GENDER)) as G (JOB, F, M)\n)\nselect *, M-F as gap from pvt where F < M order by 4 desc",
   "execution_count": null
  },
  {
   "cell_type": "markdown",
   "id": "d828b42e-2efb-40fe-9aee-495ac51007f3",
   "metadata": {
    "name": "cell1",
    "collapsed": false
   },
   "source": "I would like to understand if the overall salaries difference is statistically significant. \n* H0 -  group 'Female' earns on average same as group 'Male'.\n* H1 - group 'Female' earns on average less than group 'Male'.\n* Given the salaries data is normally distributed, I shall proceed with one-sided (less than) t-test. I start with finding means and group sizes for each gender:"
  },
  {
   "cell_type": "code",
   "id": "39c95246-e939-45e9-8c25-aa3642f69158",
   "metadata": {
    "language": "sql",
    "name": "Means",
    "collapsed": false
   },
   "outputs": [],
   "source": "SELECT GENDER, AVG(BASEPAY + BONUS) as TOTAL_SALARY, count(*) as sample_size\nFROM SALARY_DATA\ngroup by 1",
   "execution_count": null
  },
  {
   "cell_type": "markdown",
   "id": "cb4733e2-585a-4b8c-a7a4-6534f198134f",
   "metadata": {
    "name": "cell2",
    "collapsed": false
   },
   "source": "I proceed with power analysis: given I want to detect even small difference (d = 0.2), with statistical significance 95% (alpha = 0.05) and power 80%, what sample size would I need?"
  },
  {
   "cell_type": "code",
   "id": "ba35b3ef-aad8-4a48-9bba-00755798f7e8",
   "metadata": {
    "language": "python",
    "name": "Check_sample_size",
    "collapsed": false
   },
   "outputs": [],
   "source": "from statsmodels.stats.power import TTestPower\npower = TTestPower()\nsample_size = power.solve_power(effect_size=0.2, alpha=0.05, power=0.8, alternative='larger')\nprint(sample_size)",
   "execution_count": null
  },
  {
   "cell_type": "markdown",
   "id": "c92f6189-e6cb-4f3d-9e84-daaceda42d38",
   "metadata": {
    "name": "cell3",
    "collapsed": false
   },
   "source": "Output solved for sample size = 155.9256735887691, while my groups are ±500 each, I am satisfied with the result."
  },
  {
   "cell_type": "markdown",
   "id": "92b27cda-42a7-424a-9591-442002350aeb",
   "metadata": {
    "name": "cell4",
    "collapsed": false
   },
   "source": "I am now collecting the necessary statistics for the analysis: pooled STD and overall SE."
  },
  {
   "cell_type": "code",
   "id": "5e7f5e69-28bb-41a7-a4fa-acb07bf97545",
   "metadata": {
    "language": "sql",
    "name": "stats",
    "collapsed": false
   },
   "outputs": [],
   "source": "WITH stats AS (\n    SELECT\n        GENDER,\n        COUNT(1) AS n,                     -- Group size\n        AVG(BASEPAY + BONUS) AS mean_salary,             -- Mean salary\n        VAR_POP(BASEPAY + BONUS) AS variance_salary,      -- Variance of salary\n        STDDEV_POP(BASEPAY + BONUS) AS stddev_salary,\n        STDDEV_POP(BASEPAY + BONUS)/SQRT(COUNT(1)) AS SE\n    FROM\n        SALARY_DATA\n    GROUP BY\n        GENDER\n),\npooled_stats AS (\n    SELECT\n        SUM((n - 1) * variance_salary) AS numerator,    -- Weighted sum of variances\n        SUM(n) - 2 AS denominator,                      -- Degrees of freedom\n        SUM(n) AS total_n\n    FROM\n        stats\n)\nSELECT\n    SQRT(numerator / denominator) AS pooled_std_dev,    -- Final pooled standard deviation\n    numerator / denominator AS pooled_var,\n    SQRT((numerator / denominator)/total_n) AS overall_std_error\nFROM\n    pooled_stats;",
   "execution_count": null
  },
  {
   "cell_type": "markdown",
   "id": "0ff29a94-724f-4b0f-8c8b-fe1609082be1",
   "metadata": {
    "name": "cell5",
    "collapsed": false
   },
   "source": "Given the above and as my data follows normal distribution, I perform t-test for determining significance."
  },
  {
   "cell_type": "code",
   "id": "c5fd2aa0-ce9c-4c4f-939f-a17fb61df54b",
   "metadata": {
    "language": "sql",
    "name": "t_value",
    "collapsed": false
   },
   "outputs": [],
   "source": "SELECT (96416 - 104918)/783",
   "execution_count": null
  },
  {
   "cell_type": "markdown",
   "id": "f86cb219-259b-4812-9856-2aefa451da28",
   "metadata": {
    "name": "cell6",
    "collapsed": false
   },
   "source": "As the outcome t-value is -10. For one-sided left side test, after consulting the t-table, p-value is close to 0. This means that the result is strongly significant - the H1 should be accepted (group 'Female' earns on average less than group 'Male')."
  },
  {
   "cell_type": "markdown",
   "id": "07ff4e94-ab79-469f-b7f1-c411fcd95fa7",
   "metadata": {
    "name": "cell7",
    "collapsed": false
   },
   "source": "Lastly, once we understood that the result is significant, can we interpret the difference: is it \"large\" or \"small\"? I am going to use Cohen d for that:"
  },
  {
   "cell_type": "code",
   "id": "5ed20c98-8478-457a-8bcb-2cae1a9250c1",
   "metadata": {
    "language": "sql",
    "name": "Cohen_d",
    "collapsed": false
   },
   "outputs": [],
   "source": "SELECT (104918 - 96416)/24783",
   "execution_count": null
  },
  {
   "cell_type": "markdown",
   "id": "91db8922-a159-4991-ad03-dfd3616cee76",
   "metadata": {
    "name": "cell8",
    "collapsed": false
   },
   "source": "The value 0.34 is between 'medium' and 'large' according to standart interpretation. As a next step, correlation and linear regression could be used to explore this futher."
  }
 ]
}